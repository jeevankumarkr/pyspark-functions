{
 "metadata": {
  "name": "indicator_cols"
 },
 "nbformat": 3,
 "nbformat_minor": 0,
 "worksheets": [
  {
   "cells": [
    {
     "cell_type": "heading",
     "level": 1,
     "metadata": {},
     "source": [
      "Data Science tasks using Spark: Creating indicator columns for categorical/nominal inputs"
     ]
    },
    {
     "cell_type": "heading",
     "level": 2,
     "metadata": {},
     "source": [
      "Instantiate a Spark Context to the cluster on AWS:"
     ]
    },
    {
     "cell_type": "heading",
     "level": 3,
     "metadata": {},
     "source": [
      "Cluster is a single node slave cluster running Spark 1.3.1"
     ]
    },
    {
     "cell_type": "code",
     "collapsed": false,
     "input": [
      "print(CLUSTER_URL)\n",
      "from pyspark import SparkContext\n",
      "sc = SparkContext(CLUSTER_URL,'pyspark')"
     ],
     "language": "python",
     "metadata": {},
     "outputs": [
      {
       "output_type": "stream",
       "stream": "stdout",
       "text": [
        "spark://ec2-54-77-165-8.eu-west-1.compute.amazonaws.com:7077\n"
       ]
      }
     ],
     "prompt_number": 1
    },
    {
     "cell_type": "heading",
     "level": 3,
     "metadata": {},
     "source": [
      "Read in data from an Amazon S3 bucket (Make sure you have AWS_SECRET_ACCESS_KEY and AWS_ACCESS_KEY_ID set when launching Pyspark shell or Ipython notebook)\n",
      "The data consists of pairs of integers:"
     ]
    },
    {
     "cell_type": "code",
     "collapsed": false,
     "input": [
      "data = sc.textFile(\"s3n://cssanalysis/data5.txt\").map(lambda line: [int(x) for x in line.split(',')])\n",
      "data.take(5)"
     ],
     "language": "python",
     "metadata": {},
     "outputs": [
      {
       "output_type": "pyout",
       "prompt_number": 2,
       "text": [
        "[[0, 9], [2, 10], [5, 10], [7, 7], [3, 10]]"
       ]
      }
     ],
     "prompt_number": 2
    },
    {
     "cell_type": "heading",
     "level": 3,
     "metadata": {},
     "source": [
      "Persist the data in memory by calling persist and invoking an action"
     ]
    },
    {
     "cell_type": "code",
     "collapsed": false,
     "input": [
      "data.persist()\n",
      "data.count()"
     ],
     "language": "python",
     "metadata": {},
     "outputs": [
      {
       "output_type": "pyout",
       "prompt_number": 3,
       "text": [
        "10164110"
       ]
      }
     ],
     "prompt_number": 3
    },
    {
     "cell_type": "heading",
     "level": 3,
     "metadata": {},
     "source": [
      "Define a function indicator_cols, which can be used to create dummy variables/features for nominal/categorical inputs in a machine learning model"
     ]
    },
    {
     "cell_type": "code",
     "collapsed": false,
     "input": [
      "## x : object from the RDD\n",
      "## values: a distinct list of values that x can take\n",
      "## returns a list with x and series of dummy values indicating x\n",
      "def indicator_cols(x,values):\n",
      "    dummy_vars = [0]*len(values)\n",
      "    count=0\n",
      "    y=[]\n",
      "    for items in values:\n",
      "        if items==x:\n",
      "            dummy_vars[count]=1\n",
      "            y = [x]+dummy_vars\n",
      "        count=count+1\n",
      "    return y\n"
     ],
     "language": "python",
     "metadata": {},
     "outputs": [],
     "prompt_number": 4
    },
    {
     "cell_type": "heading",
     "level": 3,
     "metadata": {},
     "source": [
      "Usage:"
     ]
    },
    {
     "cell_type": "code",
     "collapsed": false,
     "input": [
      "col = data.map(lambda x: x[0]) ##col is an RDD with a list of integer values\n",
      "vals = col.distinct().collect() ##  variable with a list of distinct values to be dummied\n",
      "print(vals) \n",
      "col_dummy = col.map(lambda x: indicator_cols(x,vals)).take(5)\n",
      "col_dummy"
     ],
     "language": "python",
     "metadata": {},
     "outputs": [
      {
       "output_type": "stream",
       "stream": "stdout",
       "text": [
        "[0, 2, 4, 6, 8, 10, 12, 14, -1, -4, -2, 1, 3, 5, 7, 9, 11, 13, 15, -5, -3]\n"
       ]
      },
      {
       "output_type": "pyout",
       "prompt_number": 6,
       "text": [
        "[[0, 1, 0, 0, 0, 0, 0, 0, 0, 0, 0, 0, 0, 0, 0, 0, 0, 0, 0, 0, 0, 0],\n",
        " [2, 0, 1, 0, 0, 0, 0, 0, 0, 0, 0, 0, 0, 0, 0, 0, 0, 0, 0, 0, 0, 0],\n",
        " [5, 0, 0, 0, 0, 0, 0, 0, 0, 0, 0, 0, 0, 0, 1, 0, 0, 0, 0, 0, 0, 0],\n",
        " [7, 0, 0, 0, 0, 0, 0, 0, 0, 0, 0, 0, 0, 0, 0, 1, 0, 0, 0, 0, 0, 0],\n",
        " [3, 0, 0, 0, 0, 0, 0, 0, 0, 0, 0, 0, 0, 1, 0, 0, 0, 0, 0, 0, 0, 0]]"
       ]
      }
     ],
     "prompt_number": 6
    }
   ],
   "metadata": {}
  }
 ]
}
