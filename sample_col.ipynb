{
 "metadata": {
  "name": "sample_col"
 },
 "nbformat": 3,
 "nbformat_minor": 0,
 "worksheets": [
  {
   "cells": [
    {
     "cell_type": "heading",
     "level": 1,
     "metadata": {},
     "source": [
      "Data Science tasks using Spark: Creating sample column based on proportions. Can be used to split train and test/validate samples for a machine learning model"
     ]
    },
    {
     "cell_type": "heading",
     "level": 2,
     "metadata": {},
     "source": [
      "Instantiate a Spark Context to the cluster on AWS:"
     ]
    },
    {
     "cell_type": "heading",
     "level": 3,
     "metadata": {},
     "source": [
      "Cluster is a single node slave cluster running Spark 1.3.1"
     ]
    },
    {
     "cell_type": "code",
     "collapsed": false,
     "input": [
      "print(CLUSTER_URL)\n",
      "from pyspark import SparkContext\n",
      "sc = SparkContext(CLUSTER_URL,'pyspark')"
     ],
     "language": "python",
     "metadata": {},
     "outputs": [
      {
       "output_type": "stream",
       "stream": "stdout",
       "text": [
        "spark://ec2-54-77-165-8.eu-west-1.compute.amazonaws.com:7077\n"
       ]
      }
     ],
     "prompt_number": 1
    },
    {
     "cell_type": "heading",
     "level": 3,
     "metadata": {},
     "source": [
      "Read in data from an Amazon S3 bucket (Make sure you have AWS_SECRET_ACCESS_KEY and AWS_ACCESS_KEY_ID set when launching Pyspark shell or Ipython notebook)\n",
      "The data consists of pairs of integers:"
     ]
    },
    {
     "cell_type": "code",
     "collapsed": false,
     "input": [
      "data = sc.textFile(\"s3n://cssanalysis/data5.txt\").map(lambda line: [int(x) for x in line.split(',')])\n",
      "data.take(5)"
     ],
     "language": "python",
     "metadata": {},
     "outputs": [
      {
       "output_type": "pyout",
       "prompt_number": 2,
       "text": [
        "[[0, 9], [2, 10], [5, 10], [7, 7], [3, 10]]"
       ]
      }
     ],
     "prompt_number": 2
    },
    {
     "cell_type": "heading",
     "level": 3,
     "metadata": {},
     "source": [
      "Persist the data in memory by calling persist and invoking an action"
     ]
    },
    {
     "cell_type": "code",
     "collapsed": false,
     "input": [
      "data.persist()\n",
      "data.count()"
     ],
     "language": "python",
     "metadata": {},
     "outputs": [
      {
       "output_type": "pyout",
       "prompt_number": 3,
       "text": [
        "10164110"
       ]
      }
     ],
     "prompt_number": 3
    },
    {
     "cell_type": "heading",
     "level": 3,
     "metadata": {},
     "source": [
      "Define a function sample_flag, which can be used to create labels in an RDD with a predefined set of proportions"
     ]
    },
    {
     "cell_type": "code",
     "collapsed": false,
     "input": [
      "## x : object from the RDD\n",
      "## prop: a list of [label,proportions] eg: [[1,0.2],[2,0.3],[3,0.4],[4,0.1]]\n",
      "## returns a x with a label tag\n",
      "import random\n",
      "def sample_col(x,prop):\n",
      "    totprop=0\n",
      "    prop_sorted = sorted(prop,key=lambda x: x[1])\n",
      "    for i in range(0,len(prop_sorted)):\n",
      "        totprop = totprop+prop_sorted[i][1]\n",
      "        prop_sorted[i] = prop_sorted[i]+tuple([totprop])\n",
      "    if totprop<>1:\n",
      "        print(\"Proportions must add to 1\")\n",
      "        return 0\n",
      "    prop_sorted = sorted(prop_sorted,key=lambda x: x[2],reverse=True)\n",
      "    rand = random.random()\n",
      "    y=[]\n",
      "    for i in range(0,len(prop_sorted)):\n",
      "        if rand <= prop_sorted[i][2]:\n",
      "            y = x + [prop_sorted[i][0]]\n",
      "    return y\n",
      "\n"
     ],
     "language": "python",
     "metadata": {},
     "outputs": [],
     "prompt_number": 4
    },
    {
     "cell_type": "heading",
     "level": 3,
     "metadata": {},
     "source": [
      "Usage:"
     ]
    },
    {
     "cell_type": "code",
     "collapsed": false,
     "input": [
      "##In order to tag values in the data RDD with a label based on the following proportions: 10% 0s, 60% 1s and 30% 2s\n",
      "transformed = data.map(lambda x: sample_col(x,[(0,0.1),(1,0.6),(2,0.3)]))\n",
      "counts = transformed.map(lambda x:(x[2],1)).reduceByKey(lambda x,y:x+y)\n",
      "print(counts.collect())\n",
      "transformed.take(10)\n"
     ],
     "language": "python",
     "metadata": {},
     "outputs": [
      {
       "output_type": "stream",
       "stream": "stdout",
       "text": [
        "[(0, 1014198), (2, 3048168), (1, 6101744)]\n"
       ]
      },
      {
       "output_type": "pyout",
       "prompt_number": 5,
       "text": [
        "[[0, 9, 2],\n",
        " [2, 10, 1],\n",
        " [5, 10, 1],\n",
        " [7, 7, 1],\n",
        " [3, 10, 2],\n",
        " [7, 9, 1],\n",
        " [7, 11, 0],\n",
        " [5, 10, 2],\n",
        " [3, 9, 1],\n",
        " [10, 11, 1]]"
       ]
      }
     ],
     "prompt_number": 5
    }
   ],
   "metadata": {}
  }
 ]
}
